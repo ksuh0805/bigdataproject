{
 "cells": [
  {
   "cell_type": "code",
   "execution_count": 1,
   "metadata": {},
   "outputs": [],
   "source": [
    "import numpy as np\n",
    "import pandas as pd\n",
    "\n",
    "import datetime as dt\n",
    "\n",
    "%matplotlib inline\n",
    "import matplotlib\n",
    "import matplotlib.pyplot as plt\n",
    "import seaborn as sns\n",
    "from sklearn.model_selection import GridSearchCV\n",
    "from sklearn.model_selection import train_test_split\n",
    "from xgboost import XGBRegressor"
   ]
  },
  {
   "cell_type": "code",
   "execution_count": 2,
   "metadata": {},
   "outputs": [],
   "source": [
    "import os\n",
    "os.name\n",
    "# 운영체제별 한글 폰트 설정\n",
    "if os.name == 'posix': # Mac 환경 폰트 설정\n",
    "    plt.rc('font', family='AppleGothic')\n",
    "elif os.name == 'nt': # Windows 환경 폰트 설정\n",
    "    plt.rc('font', family='HYsanB')\n",
    "plt.rc('axes', unicode_minus=False) # 마이너스 폰트 설정"
   ]
  },
  {
   "cell_type": "code",
   "execution_count": 3,
   "metadata": {},
   "outputs": [
    {
     "ename": "FileNotFoundError",
     "evalue": "[Errno 2] No such file or directory: 'C:/Users/user/Downloads/modelfinal.csv'",
     "output_type": "error",
     "traceback": [
      "\u001b[1;31m---------------------------------------------------------------------------\u001b[0m",
      "\u001b[1;31mFileNotFoundError\u001b[0m                         Traceback (most recent call last)",
      "\u001b[1;32m<ipython-input-3-667a7d0ccd2b>\u001b[0m in \u001b[0;36m<module>\u001b[1;34m\u001b[0m\n\u001b[1;32m----> 1\u001b[1;33m \u001b[0mdf\u001b[0m \u001b[1;33m=\u001b[0m \u001b[0mpd\u001b[0m\u001b[1;33m.\u001b[0m\u001b[0mread_csv\u001b[0m\u001b[1;33m(\u001b[0m\u001b[1;34m'C:/Users/user/Downloads/modelfinal.csv'\u001b[0m\u001b[1;33m,\u001b[0m\u001b[0mencoding\u001b[0m\u001b[1;33m=\u001b[0m\u001b[1;34m'cp949'\u001b[0m\u001b[1;33m)\u001b[0m\u001b[1;33m\u001b[0m\u001b[1;33m\u001b[0m\u001b[0m\n\u001b[0m\u001b[0;32m      2\u001b[0m \u001b[0mdd\u001b[0m \u001b[1;33m=\u001b[0m \u001b[0mpd\u001b[0m\u001b[1;33m.\u001b[0m\u001b[0mread_csv\u001b[0m\u001b[1;33m(\u001b[0m\u001b[1;34m'C:/Users/user/Downloads/agroupjoin.csv'\u001b[0m\u001b[1;33m,\u001b[0m\u001b[0mencoding\u001b[0m\u001b[1;33m=\u001b[0m\u001b[1;34m'cp949'\u001b[0m\u001b[1;33m)\u001b[0m\u001b[1;33m\u001b[0m\u001b[1;33m\u001b[0m\u001b[0m\n",
      "\u001b[1;32m~\\anaconda3\\lib\\site-packages\\pandas\\io\\parsers.py\u001b[0m in \u001b[0;36mparser_f\u001b[1;34m(filepath_or_buffer, sep, delimiter, header, names, index_col, usecols, squeeze, prefix, mangle_dupe_cols, dtype, engine, converters, true_values, false_values, skipinitialspace, skiprows, skipfooter, nrows, na_values, keep_default_na, na_filter, verbose, skip_blank_lines, parse_dates, infer_datetime_format, keep_date_col, date_parser, dayfirst, cache_dates, iterator, chunksize, compression, thousands, decimal, lineterminator, quotechar, quoting, doublequote, escapechar, comment, encoding, dialect, error_bad_lines, warn_bad_lines, delim_whitespace, low_memory, memory_map, float_precision)\u001b[0m\n\u001b[0;32m    674\u001b[0m         )\n\u001b[0;32m    675\u001b[0m \u001b[1;33m\u001b[0m\u001b[0m\n\u001b[1;32m--> 676\u001b[1;33m         \u001b[1;32mreturn\u001b[0m \u001b[0m_read\u001b[0m\u001b[1;33m(\u001b[0m\u001b[0mfilepath_or_buffer\u001b[0m\u001b[1;33m,\u001b[0m \u001b[0mkwds\u001b[0m\u001b[1;33m)\u001b[0m\u001b[1;33m\u001b[0m\u001b[1;33m\u001b[0m\u001b[0m\n\u001b[0m\u001b[0;32m    677\u001b[0m \u001b[1;33m\u001b[0m\u001b[0m\n\u001b[0;32m    678\u001b[0m     \u001b[0mparser_f\u001b[0m\u001b[1;33m.\u001b[0m\u001b[0m__name__\u001b[0m \u001b[1;33m=\u001b[0m \u001b[0mname\u001b[0m\u001b[1;33m\u001b[0m\u001b[1;33m\u001b[0m\u001b[0m\n",
      "\u001b[1;32m~\\anaconda3\\lib\\site-packages\\pandas\\io\\parsers.py\u001b[0m in \u001b[0;36m_read\u001b[1;34m(filepath_or_buffer, kwds)\u001b[0m\n\u001b[0;32m    446\u001b[0m \u001b[1;33m\u001b[0m\u001b[0m\n\u001b[0;32m    447\u001b[0m     \u001b[1;31m# Create the parser.\u001b[0m\u001b[1;33m\u001b[0m\u001b[1;33m\u001b[0m\u001b[1;33m\u001b[0m\u001b[0m\n\u001b[1;32m--> 448\u001b[1;33m     \u001b[0mparser\u001b[0m \u001b[1;33m=\u001b[0m \u001b[0mTextFileReader\u001b[0m\u001b[1;33m(\u001b[0m\u001b[0mfp_or_buf\u001b[0m\u001b[1;33m,\u001b[0m \u001b[1;33m**\u001b[0m\u001b[0mkwds\u001b[0m\u001b[1;33m)\u001b[0m\u001b[1;33m\u001b[0m\u001b[1;33m\u001b[0m\u001b[0m\n\u001b[0m\u001b[0;32m    449\u001b[0m \u001b[1;33m\u001b[0m\u001b[0m\n\u001b[0;32m    450\u001b[0m     \u001b[1;32mif\u001b[0m \u001b[0mchunksize\u001b[0m \u001b[1;32mor\u001b[0m \u001b[0miterator\u001b[0m\u001b[1;33m:\u001b[0m\u001b[1;33m\u001b[0m\u001b[1;33m\u001b[0m\u001b[0m\n",
      "\u001b[1;32m~\\anaconda3\\lib\\site-packages\\pandas\\io\\parsers.py\u001b[0m in \u001b[0;36m__init__\u001b[1;34m(self, f, engine, **kwds)\u001b[0m\n\u001b[0;32m    878\u001b[0m             \u001b[0mself\u001b[0m\u001b[1;33m.\u001b[0m\u001b[0moptions\u001b[0m\u001b[1;33m[\u001b[0m\u001b[1;34m\"has_index_names\"\u001b[0m\u001b[1;33m]\u001b[0m \u001b[1;33m=\u001b[0m \u001b[0mkwds\u001b[0m\u001b[1;33m[\u001b[0m\u001b[1;34m\"has_index_names\"\u001b[0m\u001b[1;33m]\u001b[0m\u001b[1;33m\u001b[0m\u001b[1;33m\u001b[0m\u001b[0m\n\u001b[0;32m    879\u001b[0m \u001b[1;33m\u001b[0m\u001b[0m\n\u001b[1;32m--> 880\u001b[1;33m         \u001b[0mself\u001b[0m\u001b[1;33m.\u001b[0m\u001b[0m_make_engine\u001b[0m\u001b[1;33m(\u001b[0m\u001b[0mself\u001b[0m\u001b[1;33m.\u001b[0m\u001b[0mengine\u001b[0m\u001b[1;33m)\u001b[0m\u001b[1;33m\u001b[0m\u001b[1;33m\u001b[0m\u001b[0m\n\u001b[0m\u001b[0;32m    881\u001b[0m \u001b[1;33m\u001b[0m\u001b[0m\n\u001b[0;32m    882\u001b[0m     \u001b[1;32mdef\u001b[0m \u001b[0mclose\u001b[0m\u001b[1;33m(\u001b[0m\u001b[0mself\u001b[0m\u001b[1;33m)\u001b[0m\u001b[1;33m:\u001b[0m\u001b[1;33m\u001b[0m\u001b[1;33m\u001b[0m\u001b[0m\n",
      "\u001b[1;32m~\\anaconda3\\lib\\site-packages\\pandas\\io\\parsers.py\u001b[0m in \u001b[0;36m_make_engine\u001b[1;34m(self, engine)\u001b[0m\n\u001b[0;32m   1112\u001b[0m     \u001b[1;32mdef\u001b[0m \u001b[0m_make_engine\u001b[0m\u001b[1;33m(\u001b[0m\u001b[0mself\u001b[0m\u001b[1;33m,\u001b[0m \u001b[0mengine\u001b[0m\u001b[1;33m=\u001b[0m\u001b[1;34m\"c\"\u001b[0m\u001b[1;33m)\u001b[0m\u001b[1;33m:\u001b[0m\u001b[1;33m\u001b[0m\u001b[1;33m\u001b[0m\u001b[0m\n\u001b[0;32m   1113\u001b[0m         \u001b[1;32mif\u001b[0m \u001b[0mengine\u001b[0m \u001b[1;33m==\u001b[0m \u001b[1;34m\"c\"\u001b[0m\u001b[1;33m:\u001b[0m\u001b[1;33m\u001b[0m\u001b[1;33m\u001b[0m\u001b[0m\n\u001b[1;32m-> 1114\u001b[1;33m             \u001b[0mself\u001b[0m\u001b[1;33m.\u001b[0m\u001b[0m_engine\u001b[0m \u001b[1;33m=\u001b[0m \u001b[0mCParserWrapper\u001b[0m\u001b[1;33m(\u001b[0m\u001b[0mself\u001b[0m\u001b[1;33m.\u001b[0m\u001b[0mf\u001b[0m\u001b[1;33m,\u001b[0m \u001b[1;33m**\u001b[0m\u001b[0mself\u001b[0m\u001b[1;33m.\u001b[0m\u001b[0moptions\u001b[0m\u001b[1;33m)\u001b[0m\u001b[1;33m\u001b[0m\u001b[1;33m\u001b[0m\u001b[0m\n\u001b[0m\u001b[0;32m   1115\u001b[0m         \u001b[1;32melse\u001b[0m\u001b[1;33m:\u001b[0m\u001b[1;33m\u001b[0m\u001b[1;33m\u001b[0m\u001b[0m\n\u001b[0;32m   1116\u001b[0m             \u001b[1;32mif\u001b[0m \u001b[0mengine\u001b[0m \u001b[1;33m==\u001b[0m \u001b[1;34m\"python\"\u001b[0m\u001b[1;33m:\u001b[0m\u001b[1;33m\u001b[0m\u001b[1;33m\u001b[0m\u001b[0m\n",
      "\u001b[1;32m~\\anaconda3\\lib\\site-packages\\pandas\\io\\parsers.py\u001b[0m in \u001b[0;36m__init__\u001b[1;34m(self, src, **kwds)\u001b[0m\n\u001b[0;32m   1872\u001b[0m         \u001b[1;32mif\u001b[0m \u001b[0mkwds\u001b[0m\u001b[1;33m.\u001b[0m\u001b[0mget\u001b[0m\u001b[1;33m(\u001b[0m\u001b[1;34m\"compression\"\u001b[0m\u001b[1;33m)\u001b[0m \u001b[1;32mis\u001b[0m \u001b[1;32mNone\u001b[0m \u001b[1;32mand\u001b[0m \u001b[0mencoding\u001b[0m\u001b[1;33m:\u001b[0m\u001b[1;33m\u001b[0m\u001b[1;33m\u001b[0m\u001b[0m\n\u001b[0;32m   1873\u001b[0m             \u001b[1;32mif\u001b[0m \u001b[0misinstance\u001b[0m\u001b[1;33m(\u001b[0m\u001b[0msrc\u001b[0m\u001b[1;33m,\u001b[0m \u001b[0mstr\u001b[0m\u001b[1;33m)\u001b[0m\u001b[1;33m:\u001b[0m\u001b[1;33m\u001b[0m\u001b[1;33m\u001b[0m\u001b[0m\n\u001b[1;32m-> 1874\u001b[1;33m                 \u001b[0msrc\u001b[0m \u001b[1;33m=\u001b[0m \u001b[0mopen\u001b[0m\u001b[1;33m(\u001b[0m\u001b[0msrc\u001b[0m\u001b[1;33m,\u001b[0m \u001b[1;34m\"rb\"\u001b[0m\u001b[1;33m)\u001b[0m\u001b[1;33m\u001b[0m\u001b[1;33m\u001b[0m\u001b[0m\n\u001b[0m\u001b[0;32m   1875\u001b[0m                 \u001b[0mself\u001b[0m\u001b[1;33m.\u001b[0m\u001b[0mhandles\u001b[0m\u001b[1;33m.\u001b[0m\u001b[0mappend\u001b[0m\u001b[1;33m(\u001b[0m\u001b[0msrc\u001b[0m\u001b[1;33m)\u001b[0m\u001b[1;33m\u001b[0m\u001b[1;33m\u001b[0m\u001b[0m\n\u001b[0;32m   1876\u001b[0m \u001b[1;33m\u001b[0m\u001b[0m\n",
      "\u001b[1;31mFileNotFoundError\u001b[0m: [Errno 2] No such file or directory: 'C:/Users/user/Downloads/modelfinal.csv'"
     ]
    }
   ],
   "source": [
    "df = pd.read_csv('C:/Users/user/Downloads/modelfinal.csv',encoding='cp949')\n",
    "dd = pd.read_csv('C:/Users/user/Downloads/agroupjoin.csv',encoding='cp949')"
   ]
  },
  {
   "cell_type": "code",
   "execution_count": 107,
   "metadata": {},
   "outputs": [
    {
     "data": {
      "text/html": [
       "<div>\n",
       "<style scoped>\n",
       "    .dataframe tbody tr th:only-of-type {\n",
       "        vertical-align: middle;\n",
       "    }\n",
       "\n",
       "    .dataframe tbody tr th {\n",
       "        vertical-align: top;\n",
       "    }\n",
       "\n",
       "    .dataframe thead th {\n",
       "        text-align: right;\n",
       "    }\n",
       "</style>\n",
       "<table border=\"1\" class=\"dataframe\">\n",
       "  <thead>\n",
       "    <tr style=\"text-align: right;\">\n",
       "      <th></th>\n",
       "      <th>기타이용자수</th>\n",
       "      <th>predictions</th>\n",
       "    </tr>\n",
       "  </thead>\n",
       "  <tbody>\n",
       "    <tr>\n",
       "      <th>0</th>\n",
       "      <td>96.523810</td>\n",
       "      <td>72.955467</td>\n",
       "    </tr>\n",
       "    <tr>\n",
       "      <th>1</th>\n",
       "      <td>123.095238</td>\n",
       "      <td>83.898201</td>\n",
       "    </tr>\n",
       "    <tr>\n",
       "      <th>2</th>\n",
       "      <td>117.119048</td>\n",
       "      <td>98.908470</td>\n",
       "    </tr>\n",
       "    <tr>\n",
       "      <th>3</th>\n",
       "      <td>117.500000</td>\n",
       "      <td>68.161491</td>\n",
       "    </tr>\n",
       "    <tr>\n",
       "      <th>4</th>\n",
       "      <td>105.261905</td>\n",
       "      <td>105.260651</td>\n",
       "    </tr>\n",
       "    <tr>\n",
       "      <th>5</th>\n",
       "      <td>52.273810</td>\n",
       "      <td>24.943188</td>\n",
       "    </tr>\n",
       "    <tr>\n",
       "      <th>6</th>\n",
       "      <td>30.190476</td>\n",
       "      <td>38.782166</td>\n",
       "    </tr>\n",
       "    <tr>\n",
       "      <th>7</th>\n",
       "      <td>48.738095</td>\n",
       "      <td>9.105993</td>\n",
       "    </tr>\n",
       "    <tr>\n",
       "      <th>8</th>\n",
       "      <td>18.873016</td>\n",
       "      <td>23.218325</td>\n",
       "    </tr>\n",
       "    <tr>\n",
       "      <th>9</th>\n",
       "      <td>28.714286</td>\n",
       "      <td>3.577504</td>\n",
       "    </tr>\n",
       "    <tr>\n",
       "      <th>10</th>\n",
       "      <td>25.214286</td>\n",
       "      <td>10.713286</td>\n",
       "    </tr>\n",
       "    <tr>\n",
       "      <th>11</th>\n",
       "      <td>49.416667</td>\n",
       "      <td>36.398109</td>\n",
       "    </tr>\n",
       "    <tr>\n",
       "      <th>12</th>\n",
       "      <td>21.873016</td>\n",
       "      <td>9.298580</td>\n",
       "    </tr>\n",
       "    <tr>\n",
       "      <th>13</th>\n",
       "      <td>27.785714</td>\n",
       "      <td>4.020539</td>\n",
       "    </tr>\n",
       "    <tr>\n",
       "      <th>14</th>\n",
       "      <td>42.559524</td>\n",
       "      <td>26.837910</td>\n",
       "    </tr>\n",
       "    <tr>\n",
       "      <th>15</th>\n",
       "      <td>92.178571</td>\n",
       "      <td>90.140602</td>\n",
       "    </tr>\n",
       "    <tr>\n",
       "      <th>16</th>\n",
       "      <td>82.416667</td>\n",
       "      <td>81.326492</td>\n",
       "    </tr>\n",
       "    <tr>\n",
       "      <th>17</th>\n",
       "      <td>137.309524</td>\n",
       "      <td>119.035820</td>\n",
       "    </tr>\n",
       "    <tr>\n",
       "      <th>18</th>\n",
       "      <td>120.761905</td>\n",
       "      <td>26.939396</td>\n",
       "    </tr>\n",
       "    <tr>\n",
       "      <th>19</th>\n",
       "      <td>31.904762</td>\n",
       "      <td>11.381719</td>\n",
       "    </tr>\n",
       "    <tr>\n",
       "      <th>20</th>\n",
       "      <td>58.928571</td>\n",
       "      <td>4.888508</td>\n",
       "    </tr>\n",
       "    <tr>\n",
       "      <th>21</th>\n",
       "      <td>68.380952</td>\n",
       "      <td>9.247493</td>\n",
       "    </tr>\n",
       "    <tr>\n",
       "      <th>22</th>\n",
       "      <td>34.000000</td>\n",
       "      <td>27.221773</td>\n",
       "    </tr>\n",
       "    <tr>\n",
       "      <th>23</th>\n",
       "      <td>93.380952</td>\n",
       "      <td>72.693626</td>\n",
       "    </tr>\n",
       "    <tr>\n",
       "      <th>24</th>\n",
       "      <td>96.500000</td>\n",
       "      <td>29.935703</td>\n",
       "    </tr>\n",
       "    <tr>\n",
       "      <th>25</th>\n",
       "      <td>28.059524</td>\n",
       "      <td>29.013836</td>\n",
       "    </tr>\n",
       "    <tr>\n",
       "      <th>26</th>\n",
       "      <td>26.285714</td>\n",
       "      <td>4.405684</td>\n",
       "    </tr>\n",
       "    <tr>\n",
       "      <th>27</th>\n",
       "      <td>106.761905</td>\n",
       "      <td>95.275726</td>\n",
       "    </tr>\n",
       "    <tr>\n",
       "      <th>28</th>\n",
       "      <td>152.452381</td>\n",
       "      <td>118.141388</td>\n",
       "    </tr>\n",
       "    <tr>\n",
       "      <th>29</th>\n",
       "      <td>113.571429</td>\n",
       "      <td>80.445412</td>\n",
       "    </tr>\n",
       "  </tbody>\n",
       "</table>\n",
       "</div>"
      ],
      "text/plain": [
       "        기타이용자수  predictions\n",
       "0    96.523810    72.955467\n",
       "1   123.095238    83.898201\n",
       "2   117.119048    98.908470\n",
       "3   117.500000    68.161491\n",
       "4   105.261905   105.260651\n",
       "5    52.273810    24.943188\n",
       "6    30.190476    38.782166\n",
       "7    48.738095     9.105993\n",
       "8    18.873016    23.218325\n",
       "9    28.714286     3.577504\n",
       "10   25.214286    10.713286\n",
       "11   49.416667    36.398109\n",
       "12   21.873016     9.298580\n",
       "13   27.785714     4.020539\n",
       "14   42.559524    26.837910\n",
       "15   92.178571    90.140602\n",
       "16   82.416667    81.326492\n",
       "17  137.309524   119.035820\n",
       "18  120.761905    26.939396\n",
       "19   31.904762    11.381719\n",
       "20   58.928571     4.888508\n",
       "21   68.380952     9.247493\n",
       "22   34.000000    27.221773\n",
       "23   93.380952    72.693626\n",
       "24   96.500000    29.935703\n",
       "25   28.059524    29.013836\n",
       "26   26.285714     4.405684\n",
       "27  106.761905    95.275726\n",
       "28  152.452381   118.141388\n",
       "29  113.571429    80.445412"
      ]
     },
     "execution_count": 107,
     "metadata": {},
     "output_type": "execute_result"
    }
   ],
   "source": [
    "dd[['기타이용자수','predictions']].head(30)"
   ]
  },
  {
   "cell_type": "code",
   "execution_count": 62,
   "metadata": {},
   "outputs": [
    {
     "data": {
      "text/plain": [
       "<matplotlib.axes._subplots.AxesSubplot at 0x1ae9e631a00>"
      ]
     },
     "execution_count": 62,
     "metadata": {},
     "output_type": "execute_result"
    },
    {
     "data": {
      "image/png": "[encoded data removed]",
      "text/plain": [
       "<Figure size 432x288 with 1 Axes>"
      ]
     },
     "metadata": {
      "needs_background": "light"
     },
     "output_type": "display_data"
    }
   ],
   "source": [
    "sns.scatterplot(x=dd['userCount(1)'],y=dd['기타이용자수'])"
   ]
  },
  {
   "cell_type": "code",
   "execution_count": 63,
   "metadata": {},
   "outputs": [],
   "source": [
    "del dd['Unnamed: 0']\n",
    "del df['Unnamed: 0']"
   ]
  },
  {
   "cell_type": "code",
   "execution_count": 64,
   "metadata": {},
   "outputs": [],
   "source": [
    "# df.rename(columns={'같은정류소개수':'같은 정류장 개수'},inplace=True)"
   ]
  },
  {
   "cell_type": "code",
   "execution_count": 65,
   "metadata": {},
   "outputs": [],
   "source": [
    "df['장애인노인인구수'] = df['노인인구수'] + df['장애인인구수']\n",
    "dd['장애인노인인구수'] = dd['노인인구수'] + dd['장애인인구수']"
   ]
  },
  {
   "cell_type": "code",
   "execution_count": 66,
   "metadata": {},
   "outputs": [],
   "source": [
    "# df = df.set_index('정류소')"
   ]
  },
  {
   "cell_type": "code",
   "execution_count": 67,
   "metadata": {},
   "outputs": [
    {
     "data": {
      "text/html": [
       "<div>\n",
       "<style scoped>\n",
       "    .dataframe tbody tr th:only-of-type {\n",
       "        vertical-align: middle;\n",
       "    }\n",
       "\n",
       "    .dataframe tbody tr th {\n",
       "        vertical-align: top;\n",
       "    }\n",
       "\n",
       "    .dataframe thead th {\n",
       "        text-align: right;\n",
       "    }\n",
       "</style>\n",
       "<table border=\"1\" class=\"dataframe\">\n",
       "  <thead>\n",
       "    <tr style=\"text-align: right;\">\n",
       "      <th></th>\n",
       "      <th>정류소</th>\n",
       "      <th>기타이용자수</th>\n",
       "      <th>노인인구수</th>\n",
       "      <th>대형병원</th>\n",
       "      <th>노인기관</th>\n",
       "      <th>시장</th>\n",
       "      <th>장애인복지기관</th>\n",
       "      <th>요양원</th>\n",
       "      <th>버스터미널</th>\n",
       "      <th>하나로마트</th>\n",
       "      <th>공항</th>\n",
       "      <th>유동인구</th>\n",
       "      <th>장애인인구수</th>\n",
       "      <th>동</th>\n",
       "      <th>겹치는동</th>\n",
       "      <th>같은정류장개수</th>\n",
       "      <th>stationName</th>\n",
       "      <th>userCount(1)</th>\n",
       "      <th>장애인노인인구수</th>\n",
       "    </tr>\n",
       "  </thead>\n",
       "  <tbody>\n",
       "    <tr>\n",
       "      <th>0</th>\n",
       "      <td>거로사거리</td>\n",
       "      <td>1.059524</td>\n",
       "      <td>678.0</td>\n",
       "      <td>0</td>\n",
       "      <td>2</td>\n",
       "      <td>0</td>\n",
       "      <td>0</td>\n",
       "      <td>0</td>\n",
       "      <td>0</td>\n",
       "      <td>1</td>\n",
       "      <td>0</td>\n",
       "      <td>102536.8167</td>\n",
       "      <td>503.0</td>\n",
       "      <td>건입동</td>\n",
       "      <td>화북이동</td>\n",
       "      <td>4.0</td>\n",
       "      <td>거로사거리</td>\n",
       "      <td>33.214286</td>\n",
       "      <td>1181.0</td>\n",
       "    </tr>\n",
       "    <tr>\n",
       "      <th>1</th>\n",
       "      <td>사라봉</td>\n",
       "      <td>16.190476</td>\n",
       "      <td>3873.0</td>\n",
       "      <td>0</td>\n",
       "      <td>1</td>\n",
       "      <td>0</td>\n",
       "      <td>0</td>\n",
       "      <td>1</td>\n",
       "      <td>0</td>\n",
       "      <td>0</td>\n",
       "      <td>0</td>\n",
       "      <td>187925.8167</td>\n",
       "      <td>1104.0</td>\n",
       "      <td>건입동</td>\n",
       "      <td>일도이동</td>\n",
       "      <td>2.0</td>\n",
       "      <td>사라봉</td>\n",
       "      <td>93.952381</td>\n",
       "      <td>4977.0</td>\n",
       "    </tr>\n",
       "  </tbody>\n",
       "</table>\n",
       "</div>"
      ],
      "text/plain": [
       "     정류소     기타이용자수   노인인구수  대형병원  노인기관  시장  장애인복지기관  요양원  버스터미널  하나로마트  공항  \\\n",
       "0  거로사거리   1.059524   678.0     0     2   0        0    0      0      1   0   \n",
       "1    사라봉  16.190476  3873.0     0     1   0        0    1      0      0   0   \n",
       "\n",
       "          유동인구  장애인인구수    동  겹치는동  같은정류장개수 stationName  userCount(1)  장애인노인인구수  \n",
       "0  102536.8167   503.0  건입동  화북이동      4.0       거로사거리     33.214286    1181.0  \n",
       "1  187925.8167  1104.0  건입동  일도이동      2.0         사라봉     93.952381    4977.0  "
      ]
     },
     "execution_count": 67,
     "metadata": {},
     "output_type": "execute_result"
    }
   ],
   "source": [
    "df.head(2)"
   ]
  },
  {
   "cell_type": "code",
   "execution_count": 68,
   "metadata": {},
   "outputs": [
    {
     "data": {
      "text/html": [
       "<div>\n",
       "<style scoped>\n",
       "    .dataframe tbody tr th:only-of-type {\n",
       "        vertical-align: middle;\n",
       "    }\n",
       "\n",
       "    .dataframe tbody tr th {\n",
       "        vertical-align: top;\n",
       "    }\n",
       "\n",
       "    .dataframe thead th {\n",
       "        text-align: right;\n",
       "    }\n",
       "</style>\n",
       "<table border=\"1\" class=\"dataframe\">\n",
       "  <thead>\n",
       "    <tr style=\"text-align: right;\">\n",
       "      <th></th>\n",
       "      <th>Unnamed: 0.1</th>\n",
       "      <th>정류소</th>\n",
       "      <th>기타이용자수</th>\n",
       "      <th>노인인구수</th>\n",
       "      <th>대형병원</th>\n",
       "      <th>노인기관</th>\n",
       "      <th>시장</th>\n",
       "      <th>장애인복지기관</th>\n",
       "      <th>요양원</th>\n",
       "      <th>버스터미널</th>\n",
       "      <th>하나로마트</th>\n",
       "      <th>공항</th>\n",
       "      <th>유동인구</th>\n",
       "      <th>장애인인구수</th>\n",
       "      <th>동</th>\n",
       "      <th>겹치는동</th>\n",
       "      <th>같은정류소개수</th>\n",
       "      <th>stationName</th>\n",
       "      <th>userCount(1)</th>\n",
       "      <th>장애인노인인구수</th>\n",
       "    </tr>\n",
       "  </thead>\n",
       "  <tbody>\n",
       "    <tr>\n",
       "      <th>0</th>\n",
       "      <td>1</td>\n",
       "      <td>제주동초등학교</td>\n",
       "      <td>96.523810</td>\n",
       "      <td>3873.0</td>\n",
       "      <td>0</td>\n",
       "      <td>1</td>\n",
       "      <td>1</td>\n",
       "      <td>0</td>\n",
       "      <td>1</td>\n",
       "      <td>0</td>\n",
       "      <td>0</td>\n",
       "      <td>0</td>\n",
       "      <td>187925.8167</td>\n",
       "      <td>1104.0</td>\n",
       "      <td>건입동</td>\n",
       "      <td>일도이동</td>\n",
       "      <td>2</td>\n",
       "      <td>제주동초등학교</td>\n",
       "      <td>571.333333</td>\n",
       "      <td>4977.0</td>\n",
       "    </tr>\n",
       "    <tr>\n",
       "      <th>1</th>\n",
       "      <td>2</td>\n",
       "      <td>제주여자상업고등학교</td>\n",
       "      <td>123.095238</td>\n",
       "      <td>2131.5</td>\n",
       "      <td>0</td>\n",
       "      <td>6</td>\n",
       "      <td>0</td>\n",
       "      <td>0</td>\n",
       "      <td>0</td>\n",
       "      <td>0</td>\n",
       "      <td>0</td>\n",
       "      <td>0</td>\n",
       "      <td>252369.8167</td>\n",
       "      <td>954.0</td>\n",
       "      <td>건입동</td>\n",
       "      <td>이도이동</td>\n",
       "      <td>2</td>\n",
       "      <td>제주여자상업고등학교</td>\n",
       "      <td>878.261905</td>\n",
       "      <td>3085.5</td>\n",
       "    </tr>\n",
       "  </tbody>\n",
       "</table>\n",
       "</div>"
      ],
      "text/plain": [
       "   Unnamed: 0.1         정류소      기타이용자수   노인인구수  대형병원  노인기관  시장  장애인복지기관  요양원  \\\n",
       "0             1     제주동초등학교   96.523810  3873.0     0     1   1        0    1   \n",
       "1             2  제주여자상업고등학교  123.095238  2131.5     0     6   0        0    0   \n",
       "\n",
       "   버스터미널  하나로마트  공항         유동인구  장애인인구수    동  겹치는동  같은정류소개수 stationName  \\\n",
       "0      0      0   0  187925.8167  1104.0  건입동  일도이동        2     제주동초등학교   \n",
       "1      0      0   0  252369.8167   954.0  건입동  이도이동        2  제주여자상업고등학교   \n",
       "\n",
       "   userCount(1)  장애인노인인구수  \n",
       "0    571.333333    4977.0  \n",
       "1    878.261905    3085.5  "
      ]
     },
     "execution_count": 68,
     "metadata": {},
     "output_type": "execute_result"
    }
   ],
   "source": [
    "dd.head(2)"
   ]
  },
  {
   "cell_type": "code",
   "execution_count": 69,
   "metadata": {},
   "outputs": [],
   "source": [
    "# z=df['기타이용자수']/10\n",
    "# plt.figure(figsize=(12,8))\n",
    "# plt.scatter(x=df['장애인노인인구수'],y=df['기타이용자수'],s=z*20,color='grey')"
   ]
  },
  {
   "cell_type": "code",
   "execution_count": 70,
   "metadata": {},
   "outputs": [],
   "source": [
    "X = df[['노인인구수','대형병원','노인기관','시장','장애인복지기관','요양원','버스터미널','하나로마트','같은정류장개수','장애인노인인구수'\n",
    "        ,'장애인인구수','userCount(1)']]\n",
    "y = df['기타이용자수']"
   ]
  },
  {
   "cell_type": "code",
   "execution_count": 71,
   "metadata": {
    "scrolled": true
   },
   "outputs": [],
   "source": [
    "X1 = dd[['노인인구수','대형병원','노인기관','시장','장애인복지기관','요양원','버스터미널','하나로마트','같은정류소개수','장애인노인인구수'\n",
    "        ,'장애인인구수','userCount(1)']]\n",
    "y1 = dd['기타이용자수']"
   ]
  },
  {
   "cell_type": "code",
   "execution_count": 72,
   "metadata": {
    "scrolled": true
   },
   "outputs": [],
   "source": [
    "# corr_matrix = df.corr()\n",
    "# corr_matrix[\"기타이용자수\"].sort_values(ascending=False) "
   ]
  },
  {
   "cell_type": "code",
   "execution_count": 73,
   "metadata": {},
   "outputs": [],
   "source": [
    "from sklearn.preprocessing import MinMaxScaler\n",
    "scaler = MinMaxScaler(feature_range = (0,1))\n",
    "train_X = scaler.fit_transform(X)\n",
    "train_X1 = scaler.fit_transform(X1)"
   ]
  },
  {
   "cell_type": "code",
   "execution_count": 74,
   "metadata": {},
   "outputs": [],
   "source": [
    "# from  sklearn.preprocessing import StandardScaler\n",
    "# sn= StandardScaler();\n",
    "# train_X=sn.fit_transform(X)"
   ]
  },
  {
   "cell_type": "code",
   "execution_count": 75,
   "metadata": {},
   "outputs": [],
   "source": [
    "# # for predictions\n",
    "# train_X1 = scaler.fit_transform(X1.values)"
   ]
  },
  {
   "cell_type": "code",
   "execution_count": 76,
   "metadata": {},
   "outputs": [],
   "source": [
    "# scaler.inverse_transform(train_X)"
   ]
  },
  {
   "cell_type": "code",
   "execution_count": 77,
   "metadata": {},
   "outputs": [],
   "source": [
    "train_X, test_X, train_y, test_y= train_test_split(train_X,y,test_size=0.15, random_state=0)"
   ]
  },
  {
   "cell_type": "code",
   "execution_count": 78,
   "metadata": {
    "scrolled": true
   },
   "outputs": [
    {
     "data": {
      "text/plain": [
       "XGBRegressor(base_score=0.5, booster='gbtree', colsample_bylevel=1,\n",
       "             colsample_bynode=1, colsample_bytree=1.0, gamma=0, gpu_id=-1,\n",
       "             importance_type='gain', interaction_constraints='',\n",
       "             learning_rate=0.300000012, max_delta_step=0, max_depth=9,\n",
       "             min_child_weight=1.2, missing=nan, monotone_constraints='()',\n",
       "             n_estimators=500, n_jobs=0, num_parallel_tree=1, random_state=0,\n",
       "             reg_alpha=0, reg_lambda=1, scale_pos_weight=1, subsample=1,\n",
       "             tree_method='exact', validate_parameters=1, verbosity=None)"
      ]
     },
     "execution_count": 78,
     "metadata": {},
     "output_type": "execute_result"
    }
   ],
   "source": [
    "my_model = XGBRegressor(n_estimators = 500, max_depth = 9,min_child_weight= 1.2,colsample_bytree = 1.0)\n",
    "# Add silent=True to avoid printing out updates with each cycle\n",
    "my_model.fit(train_X, train_y, verbose=False)"
   ]
  },
  {
   "cell_type": "code",
   "execution_count": 79,
   "metadata": {
    "scrolled": true
   },
   "outputs": [
    {
     "name": "stdout",
     "output_type": "stream",
     "text": [
      "Mean Absolute Error : 4.371021822480521\n"
     ]
    }
   ],
   "source": [
    "from sklearn.metrics import mean_absolute_error\n",
    "\n",
    "prediction = my_model.predict(test_X)\n",
    "print(\"Mean Absolute Error : \" + str(mean_absolute_error(prediction, test_y)))"
   ]
  },
  {
   "cell_type": "code",
   "execution_count": 80,
   "metadata": {},
   "outputs": [],
   "source": [
    "predictions = my_model.predict(train_X1)"
   ]
  },
  {
   "cell_type": "code",
   "execution_count": 81,
   "metadata": {},
   "outputs": [],
   "source": [
    "predictions = list(predictions)\n",
    "\n",
    "result = pd.DataFrame (predictions,columns=['predictions'])\n",
    "\n",
    "result = result.reset_index()"
   ]
  },
  {
   "cell_type": "code",
   "execution_count": 82,
   "metadata": {},
   "outputs": [
    {
     "data": {
      "text/html": [
       "<div>\n",
       "<style scoped>\n",
       "    .dataframe tbody tr th:only-of-type {\n",
       "        vertical-align: middle;\n",
       "    }\n",
       "\n",
       "    .dataframe tbody tr th {\n",
       "        vertical-align: top;\n",
       "    }\n",
       "\n",
       "    .dataframe thead th {\n",
       "        text-align: right;\n",
       "    }\n",
       "</style>\n",
       "<table border=\"1\" class=\"dataframe\">\n",
       "  <thead>\n",
       "    <tr style=\"text-align: right;\">\n",
       "      <th></th>\n",
       "      <th>index</th>\n",
       "      <th>기타이용자수</th>\n",
       "      <th>predictions</th>\n",
       "    </tr>\n",
       "  </thead>\n",
       "  <tbody>\n",
       "    <tr>\n",
       "      <th>0</th>\n",
       "      <td>0</td>\n",
       "      <td>96.523810</td>\n",
       "      <td>72.955467</td>\n",
       "    </tr>\n",
       "    <tr>\n",
       "      <th>1</th>\n",
       "      <td>1</td>\n",
       "      <td>123.095238</td>\n",
       "      <td>83.898201</td>\n",
       "    </tr>\n",
       "  </tbody>\n",
       "</table>\n",
       "</div>"
      ],
      "text/plain": [
       "   index      기타이용자수  predictions\n",
       "0      0   96.523810    72.955467\n",
       "1      1  123.095238    83.898201"
      ]
     },
     "execution_count": 82,
     "metadata": {},
     "output_type": "execute_result"
    }
   ],
   "source": [
    "y1 = pd.DataFrame (y1,columns=['기타이용자수'])\n",
    "\n",
    "y1=y1.reset_index()\n",
    "\n",
    "y1 = y1.merge(result, left_on='index', right_on='index', how='left')\n",
    "\n",
    "y1.head(2)"
   ]
  },
  {
   "cell_type": "code",
   "execution_count": 83,
   "metadata": {},
   "outputs": [],
   "source": [
    "del y1['기타이용자수']\n",
    "\n",
    "dd = dd.reset_index()\n",
    "\n",
    "dd = dd.merge(y1, left_on='index', right_on='index', how='left')"
   ]
  },
  {
   "cell_type": "code",
   "execution_count": 84,
   "metadata": {},
   "outputs": [
    {
     "data": {
      "text/html": [
       "<div>\n",
       "<style scoped>\n",
       "    .dataframe tbody tr th:only-of-type {\n",
       "        vertical-align: middle;\n",
       "    }\n",
       "\n",
       "    .dataframe tbody tr th {\n",
       "        vertical-align: top;\n",
       "    }\n",
       "\n",
       "    .dataframe thead th {\n",
       "        text-align: right;\n",
       "    }\n",
       "</style>\n",
       "<table border=\"1\" class=\"dataframe\">\n",
       "  <thead>\n",
       "    <tr style=\"text-align: right;\">\n",
       "      <th></th>\n",
       "      <th>기타이용자수</th>\n",
       "      <th>predictions</th>\n",
       "    </tr>\n",
       "  </thead>\n",
       "  <tbody>\n",
       "    <tr>\n",
       "      <th>0</th>\n",
       "      <td>96.523810</td>\n",
       "      <td>72.955467</td>\n",
       "    </tr>\n",
       "    <tr>\n",
       "      <th>1</th>\n",
       "      <td>123.095238</td>\n",
       "      <td>83.898201</td>\n",
       "    </tr>\n",
       "    <tr>\n",
       "      <th>2</th>\n",
       "      <td>117.119048</td>\n",
       "      <td>98.908470</td>\n",
       "    </tr>\n",
       "    <tr>\n",
       "      <th>3</th>\n",
       "      <td>117.500000</td>\n",
       "      <td>68.161491</td>\n",
       "    </tr>\n",
       "    <tr>\n",
       "      <th>4</th>\n",
       "      <td>105.261905</td>\n",
       "      <td>105.260651</td>\n",
       "    </tr>\n",
       "    <tr>\n",
       "      <th>...</th>\n",
       "      <td>...</td>\n",
       "      <td>...</td>\n",
       "    </tr>\n",
       "    <tr>\n",
       "      <th>82</th>\n",
       "      <td>27.380952</td>\n",
       "      <td>3.010028</td>\n",
       "    </tr>\n",
       "    <tr>\n",
       "      <th>83</th>\n",
       "      <td>26.690476</td>\n",
       "      <td>3.184544</td>\n",
       "    </tr>\n",
       "    <tr>\n",
       "      <th>84</th>\n",
       "      <td>117.488095</td>\n",
       "      <td>115.000015</td>\n",
       "    </tr>\n",
       "    <tr>\n",
       "      <th>85</th>\n",
       "      <td>118.464286</td>\n",
       "      <td>109.046783</td>\n",
       "    </tr>\n",
       "    <tr>\n",
       "      <th>86</th>\n",
       "      <td>38.214286</td>\n",
       "      <td>14.884257</td>\n",
       "    </tr>\n",
       "  </tbody>\n",
       "</table>\n",
       "<p>87 rows × 2 columns</p>\n",
       "</div>"
      ],
      "text/plain": [
       "        기타이용자수  predictions\n",
       "0    96.523810    72.955467\n",
       "1   123.095238    83.898201\n",
       "2   117.119048    98.908470\n",
       "3   117.500000    68.161491\n",
       "4   105.261905   105.260651\n",
       "..         ...          ...\n",
       "82   27.380952     3.010028\n",
       "83   26.690476     3.184544\n",
       "84  117.488095   115.000015\n",
       "85  118.464286   109.046783\n",
       "86   38.214286    14.884257\n",
       "\n",
       "[87 rows x 2 columns]"
      ]
     },
     "execution_count": 84,
     "metadata": {},
     "output_type": "execute_result"
    }
   ],
   "source": [
    "dd[['기타이용자수','predictions']]"
   ]
  },
  {
   "cell_type": "code",
   "execution_count": 85,
   "metadata": {},
   "outputs": [],
   "source": [
    "we = dd.sort_values(by='기타이용자수',ascending=False)"
   ]
  },
  {
   "cell_type": "code",
   "execution_count": 86,
   "metadata": {},
   "outputs": [],
   "source": [
    "ww = dd.sort_values(by='predictions',ascending=False)"
   ]
  },
  {
   "cell_type": "code",
   "execution_count": 104,
   "metadata": {},
   "outputs": [
    {
     "data": {
      "text/html": [
       "<div>\n",
       "<style scoped>\n",
       "    .dataframe tbody tr th:only-of-type {\n",
       "        vertical-align: middle;\n",
       "    }\n",
       "\n",
       "    .dataframe tbody tr th {\n",
       "        vertical-align: top;\n",
       "    }\n",
       "\n",
       "    .dataframe thead th {\n",
       "        text-align: right;\n",
       "    }\n",
       "</style>\n",
       "<table border=\"1\" class=\"dataframe\">\n",
       "  <thead>\n",
       "    <tr style=\"text-align: right;\">\n",
       "      <th></th>\n",
       "      <th>기타이용자수</th>\n",
       "      <th>predictions</th>\n",
       "    </tr>\n",
       "  </thead>\n",
       "  <tbody>\n",
       "    <tr>\n",
       "      <th>55</th>\n",
       "      <td>514.166667</td>\n",
       "      <td>514.166199</td>\n",
       "    </tr>\n",
       "    <tr>\n",
       "      <th>42</th>\n",
       "      <td>450.261500</td>\n",
       "      <td>450.260101</td>\n",
       "    </tr>\n",
       "    <tr>\n",
       "      <th>43</th>\n",
       "      <td>348.166667</td>\n",
       "      <td>343.918671</td>\n",
       "    </tr>\n",
       "    <tr>\n",
       "      <th>56</th>\n",
       "      <td>271.714286</td>\n",
       "      <td>271.714478</td>\n",
       "    </tr>\n",
       "    <tr>\n",
       "      <th>35</th>\n",
       "      <td>264.238095</td>\n",
       "      <td>264.237671</td>\n",
       "    </tr>\n",
       "    <tr>\n",
       "      <th>60</th>\n",
       "      <td>111.404762</td>\n",
       "      <td>222.634460</td>\n",
       "    </tr>\n",
       "    <tr>\n",
       "      <th>63</th>\n",
       "      <td>333.000000</td>\n",
       "      <td>213.983490</td>\n",
       "    </tr>\n",
       "    <tr>\n",
       "      <th>68</th>\n",
       "      <td>259.833333</td>\n",
       "      <td>146.870483</td>\n",
       "    </tr>\n",
       "    <tr>\n",
       "      <th>36</th>\n",
       "      <td>158.011905</td>\n",
       "      <td>131.046661</td>\n",
       "    </tr>\n",
       "    <tr>\n",
       "      <th>17</th>\n",
       "      <td>137.309524</td>\n",
       "      <td>119.035820</td>\n",
       "    </tr>\n",
       "    <tr>\n",
       "      <th>80</th>\n",
       "      <td>132.476191</td>\n",
       "      <td>118.633759</td>\n",
       "    </tr>\n",
       "    <tr>\n",
       "      <th>28</th>\n",
       "      <td>152.452381</td>\n",
       "      <td>118.141388</td>\n",
       "    </tr>\n",
       "    <tr>\n",
       "      <th>57</th>\n",
       "      <td>116.904762</td>\n",
       "      <td>117.512207</td>\n",
       "    </tr>\n",
       "    <tr>\n",
       "      <th>84</th>\n",
       "      <td>117.488095</td>\n",
       "      <td>115.000015</td>\n",
       "    </tr>\n",
       "    <tr>\n",
       "      <th>85</th>\n",
       "      <td>118.464286</td>\n",
       "      <td>109.046783</td>\n",
       "    </tr>\n",
       "    <tr>\n",
       "      <th>4</th>\n",
       "      <td>105.261905</td>\n",
       "      <td>105.260651</td>\n",
       "    </tr>\n",
       "    <tr>\n",
       "      <th>47</th>\n",
       "      <td>84.880952</td>\n",
       "      <td>102.887260</td>\n",
       "    </tr>\n",
       "    <tr>\n",
       "      <th>66</th>\n",
       "      <td>98.761905</td>\n",
       "      <td>102.325882</td>\n",
       "    </tr>\n",
       "    <tr>\n",
       "      <th>2</th>\n",
       "      <td>117.119048</td>\n",
       "      <td>98.908470</td>\n",
       "    </tr>\n",
       "    <tr>\n",
       "      <th>27</th>\n",
       "      <td>106.761905</td>\n",
       "      <td>95.275726</td>\n",
       "    </tr>\n",
       "  </tbody>\n",
       "</table>\n",
       "</div>"
      ],
      "text/plain": [
       "        기타이용자수  predictions\n",
       "55  514.166667   514.166199\n",
       "42  450.261500   450.260101\n",
       "43  348.166667   343.918671\n",
       "56  271.714286   271.714478\n",
       "35  264.238095   264.237671\n",
       "60  111.404762   222.634460\n",
       "63  333.000000   213.983490\n",
       "68  259.833333   146.870483\n",
       "36  158.011905   131.046661\n",
       "17  137.309524   119.035820\n",
       "80  132.476191   118.633759\n",
       "28  152.452381   118.141388\n",
       "57  116.904762   117.512207\n",
       "84  117.488095   115.000015\n",
       "85  118.464286   109.046783\n",
       "4   105.261905   105.260651\n",
       "47   84.880952   102.887260\n",
       "66   98.761905   102.325882\n",
       "2   117.119048    98.908470\n",
       "27  106.761905    95.275726"
      ]
     },
     "execution_count": 104,
     "metadata": {},
     "output_type": "execute_result"
    }
   ],
   "source": [
    "ww[['기타이용자수','predictions']].head(20)"
   ]
  },
  {
   "cell_type": "code",
   "execution_count": 4,
   "metadata": {},
   "outputs": [
    {
     "ename": "ValueError",
     "evalue": "invalid literal for int() with base 10: '기타이용자수'",
     "output_type": "error",
     "traceback": [
      "\u001b[1;31m---------------------------------------------------------------------------\u001b[0m",
      "\u001b[1;31mValueError\u001b[0m                                Traceback (most recent call last)",
      "\u001b[1;32m<ipython-input-4-44013a1a771b>\u001b[0m in \u001b[0;36m<module>\u001b[1;34m\u001b[0m\n\u001b[1;32m----> 1\u001b[1;33m \u001b[0mint\u001b[0m\u001b[1;33m(\u001b[0m\u001b[1;34m'기타이용자수'\u001b[0m\u001b[1;33m)\u001b[0m\u001b[1;33m-\u001b[0m\u001b[0mint\u001b[0m\u001b[1;33m(\u001b[0m\u001b[1;34m'predictions'\u001b[0m\u001b[1;33m)\u001b[0m\u001b[1;33m\u001b[0m\u001b[1;33m\u001b[0m\u001b[0m\n\u001b[0m",
      "\u001b[1;31mValueError\u001b[0m: invalid literal for int() with base 10: '기타이용자수'"
     ]
    }
   ],
   "source": []
  },
  {
   "cell_type": "code",
   "execution_count": 97,
   "metadata": {
    "collapsed": true,
    "jupyter": {
     "outputs_hidden": true
    }
   },
   "outputs": [
    {
     "data": {
      "text/plain": [
       "['제주시청(광양방면)',\n",
       " '제주버스터미널',\n",
       " '시외버스출발지(가상정류소)',\n",
       " '제주시청(아라방면)',\n",
       " '한라병원',\n",
       " '시민회관',\n",
       " '중앙로(국민은행)',\n",
       " '중앙로(현대약국)',\n",
       " '제주도청신제주로터리',\n",
       " '남서광마을입구',\n",
       " '한림환승정류장(한림리)',\n",
       " '제주대학교병원',\n",
       " '제주중앙여자고등학교(광양방면)',\n",
       " '제주동중학교',\n",
       " '화북남문',\n",
       " '노형오거리',\n",
       " '용문사거리',\n",
       " '광양사거리',\n",
       " '제주민속오일장',\n",
       " '아라주공아파트',\n",
       " '인화초등학교',\n",
       " '관덕정',\n",
       " '고산동산(광양방면)',\n",
       " '제주지방법원(광양방면)',\n",
       " '천수동',\n",
       " '광양',\n",
       " '제주여자상업고등학교',\n",
       " '서문시장',\n",
       " '한국병원',\n",
       " '제주여자중고등학교(광양방면)',\n",
       " '제주국제공항(구제주방면)',\n",
       " '제주동초등학교',\n",
       " '용담1동주민센터',\n",
       " '삼양동주민센터',\n",
       " '제주고등학교/중흥S클래스',\n",
       " '함덕환승정류장(함덕해수욕장)',\n",
       " '제주대학교',\n",
       " '은남동',\n",
       " '연동주민센터',\n",
       " '탐라장애인종합복지관',\n",
       " '도호동',\n",
       " '정존마을',\n",
       " '정부제주지방합동청사',\n",
       " '제원아파트',\n",
       " '세화환승정류장(세화리)',\n",
       " '하귀초등학교',\n",
       " '중앙로(동문시장)',\n",
       " '신촌초등학교',\n",
       " '외도초등학교',\n",
       " '연동대림1차아파트',\n",
       " '삼양2동',\n",
       " '남서광마을',\n",
       " '큰동네',\n",
       " '서해아파트',\n",
       " '외도부영1차아파트',\n",
       " '노형우체국',\n",
       " '제주한라대학교',\n",
       " '남국원(광양방면)',\n",
       " '인다마을',\n",
       " '제주여자중고등학교(아라방면)',\n",
       " '고산동산(아라방면)',\n",
       " '아라동주민센터',\n",
       " '제주지방법원(아라방면)',\n",
       " '문예회관',\n",
       " '화북주공아파트',\n",
       " '외도부영2차아파트',\n",
       " '삼성초등학교',\n",
       " '보성시장',\n",
       " '중앙로(중앙성당)',\n",
       " '용천마을',\n",
       " '노형초등학교',\n",
       " '보건소',\n",
       " '삼양초등학교',\n",
       " '한라중학교/부영아파트',\n",
       " '조천리',\n",
       " '하귀우체국',\n",
       " '조천환승정류장(조천우체국)',\n",
       " '홍랑로입구',\n",
       " '신촌리',\n",
       " '도련1동',\n",
       " '용문마을회관',\n",
       " '한라수목원',\n",
       " '함덕농협지소',\n",
       " '함덕리(3구)',\n",
       " '대학동',\n",
       " '인화동',\n",
       " '하귀환승정류장(하귀하나로마트)']"
      ]
     },
     "execution_count": 97,
     "metadata": {},
     "output_type": "execute_result"
    }
   ],
   "source": [
    "ww['정류소'].to_list()"
   ]
  },
  {
   "cell_type": "code",
   "execution_count": 102,
   "metadata": {
    "collapsed": true,
    "jupyter": {
     "outputs_hidden": true
    }
   },
   "outputs": [
    {
     "data": {
      "text/plain": [
       "['제주시청(광양방면)',\n",
       " '제주버스터미널',\n",
       " '시외버스출발지(가상정류소)',\n",
       " '중앙로(국민은행)',\n",
       " '제주시청(아라방면)',\n",
       " '한라병원',\n",
       " '중앙로(현대약국)',\n",
       " '고산동산(광양방면)',\n",
       " '중앙로(동문시장)',\n",
       " '제주도청신제주로터리',\n",
       " '제주대학교병원',\n",
       " '제주지방법원(광양방면)',\n",
       " '남서광마을입구',\n",
       " '한림환승정류장(한림리)',\n",
       " '제주여자상업고등학교',\n",
       " '광양',\n",
       " '남서광마을',\n",
       " '인화초등학교',\n",
       " '화북남문',\n",
       " '제주고등학교/중흥S클래스',\n",
       " '제주동중학교',\n",
       " '제주민속오일장',\n",
       " '제주중앙여자고등학교(광양방면)',\n",
       " '제주여자중고등학교(광양방면)',\n",
       " '시민회관',\n",
       " '천수동',\n",
       " '보성시장',\n",
       " '아라주공아파트',\n",
       " '노형오거리',\n",
       " '광양사거리',\n",
       " '중앙로(중앙성당)',\n",
       " '제주동초등학교',\n",
       " '세화환승정류장(세화리)',\n",
       " '삼양동주민센터',\n",
       " '관덕정',\n",
       " '용문사거리',\n",
       " '서문시장',\n",
       " '한국병원',\n",
       " '용담1동주민센터',\n",
       " '하귀초등학교',\n",
       " '제주국제공항(구제주방면)',\n",
       " '함덕환승정류장(함덕해수욕장)',\n",
       " '삼양초등학교',\n",
       " '연동주민센터',\n",
       " '탐라장애인종합복지관',\n",
       " '홍랑로입구',\n",
       " '아라동주민센터',\n",
       " '삼성초등학교',\n",
       " '제주여자중고등학교(아라방면)',\n",
       " '남국원(광양방면)',\n",
       " '제주지방법원(아라방면)',\n",
       " '고산동산(아라방면)',\n",
       " '노형우체국',\n",
       " '조천환승정류장(조천우체국)',\n",
       " '정부제주지방합동청사',\n",
       " '제주대학교',\n",
       " '한라중학교/부영아파트',\n",
       " '도호동',\n",
       " '서해아파트',\n",
       " '큰동네',\n",
       " '은남동',\n",
       " '외도부영1차아파트',\n",
       " '조천리',\n",
       " '화북주공아파트',\n",
       " '인다마을',\n",
       " '삼양2동',\n",
       " '하귀우체국',\n",
       " '용천마을',\n",
       " '제원아파트',\n",
       " '문예회관',\n",
       " '정존마을',\n",
       " '인화동',\n",
       " '한라수목원',\n",
       " '외도초등학교',\n",
       " '연동대림1차아파트',\n",
       " '신촌초등학교',\n",
       " '하귀환승정류장(하귀하나로마트)',\n",
       " '도련1동',\n",
       " '함덕리(3구)',\n",
       " '함덕농협지소',\n",
       " '신촌리',\n",
       " '노형초등학교',\n",
       " '외도부영2차아파트',\n",
       " '대학동',\n",
       " '용문마을회관',\n",
       " '보건소',\n",
       " '제주한라대학교']"
      ]
     },
     "execution_count": 102,
     "metadata": {},
     "output_type": "execute_result"
    }
   ],
   "source": [
    "we['정류소'].to_list()"
   ]
  },
  {
   "cell_type": "code",
   "execution_count": 88,
   "metadata": {
    "scrolled": true
   },
   "outputs": [
    {
     "data": {
      "text/plain": [
       "0.9421434764582229"
      ]
     },
     "execution_count": 88,
     "metadata": {},
     "output_type": "execute_result"
    }
   ],
   "source": [
    "my_model.score(test_X,test_y)"
   ]
  },
  {
   "cell_type": "code",
   "execution_count": 89,
   "metadata": {},
   "outputs": [
    {
     "data": {
      "text/plain": [
       "0.9999999990414945"
      ]
     },
     "execution_count": 89,
     "metadata": {},
     "output_type": "execute_result"
    }
   ],
   "source": [
    "my_model.score(train_X,train_y)"
   ]
  },
  {
   "cell_type": "code",
   "execution_count": 90,
   "metadata": {},
   "outputs": [],
   "source": [
    "# predictions = my_model.predict(train_X1)"
   ]
  },
  {
   "cell_type": "code",
   "execution_count": 91,
   "metadata": {},
   "outputs": [],
   "source": [
    "# pre = list(predictions)\n",
    "\n",
    "# result = pd.DataFrame (pre,columns=['predictions'])\n",
    "\n",
    "# result.head(2)"
   ]
  },
  {
   "cell_type": "code",
   "execution_count": 92,
   "metadata": {},
   "outputs": [],
   "source": [
    "# dd = dd.reset_index()\n",
    "# result = result.reset_index()\n",
    "\n",
    "# dd = dd.merge(result, left_on='index', right_on='index', how='left')\n",
    "\n",
    "# dd = dd[['정류소','기타이용자수','predictions']]"
   ]
  },
  {
   "cell_type": "code",
   "execution_count": 93,
   "metadata": {},
   "outputs": [
    {
     "data": {
      "image/png": "[encoded data removed]",
      "text/plain": [
       "<Figure size 720x432 with 1 Axes>"
      ]
     },
     "metadata": {
      "needs_background": "light"
     },
     "output_type": "display_data"
    }
   ],
   "source": [
    "x_ax = range(len(test_y))\n",
    "plt.figure(figsize=(10,6))\n",
    "plt.plot(x_ax, test_y, label=\"original\")\n",
    "plt.plot(x_ax, prediction, label=\"predicted\")\n",
    "plt.title(\"교통약자 수요 예측값과 실제값\")\n",
    "plt.legend()\n",
    "plt.show()"
   ]
  },
  {
   "cell_type": "code",
   "execution_count": null,
   "metadata": {},
   "outputs": [],
   "source": []
  }
 ],
 "metadata": {
  "kernelspec": {
   "display_name": "Python 3",
   "language": "python",
   "name": "python3"
  },
  "language_info": {
   "codemirror_mode": {
    "name": "ipython",
    "version": 3
   },
   "file_extension": ".py",
   "mimetype": "text/x-python",
   "name": "python",
   "nbconvert_exporter": "python",
   "pygments_lexer": "ipython3",
   "version": "3.8.3"
  }
 },
 "nbformat": 4,
 "nbformat_minor": 4
}
